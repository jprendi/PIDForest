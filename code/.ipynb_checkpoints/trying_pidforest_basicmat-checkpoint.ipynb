{
 "cells": [
  {
   "cell_type": "code",
   "execution_count": 1,
   "id": "695a5a0c",
   "metadata": {},
   "outputs": [],
   "source": [
    "import numpy as np\n",
    "import matplotlib.pyplot as plt\n",
    "import os\n",
    "from scripts.forest import Forest\n",
    "from sklearn.ensemble import IsolationForest\n",
    "from sklearn.neighbors import LocalOutlierFactor\n",
    "from sklearn.svm import OneClassSVM\n",
    "import scripts.timeseries as ts\n",
    "import pandas as pd\n",
    "import time\n",
    "import scipy.io as sio\n",
    "from sklearn import metrics\n",
    "import rrcf\n",
    "import h5py"
   ]
  },
  {
   "cell_type": "code",
   "execution_count": 2,
   "id": "79df8019",
   "metadata": {},
   "outputs": [
    {
     "name": "stdout",
     "output_type": "stream",
     "text": [
      "(7200, 6)\n"
     ]
    }
   ],
   "source": [
    "dataset = 'thyroid'\n",
    "trials = 1\n",
    "#run_lof_svm = 1\n",
    "mat_data = sio.loadmat('../data/'+dataset+'.mat')\n",
    "X = mat_data['X']\n",
    "t = X[0,0]\n",
    "newdir = 'pidtrials/'\n",
    "if not os.path.exists(newdir):\n",
    "    os.makedirs(newdir)\n",
    "file_name = newdir + dataset + '.txt'\n",
    "File_object = open(file_name,\"w\")   \n",
    "print(X.shape)"
   ]
  },
  {
   "cell_type": "code",
   "execution_count": 3,
   "id": "9903ba4f-c5dc-4f46-8adc-1a52dbb77ecd",
   "metadata": {},
   "outputs": [],
   "source": [
    "trials = 1\n",
    "time_all = np.zeros((trials,1))\n",
    "precision_all = np.zeros((trials,1))\n",
    "auc_all = np.zeros((trials,1))\n",
    "start = time.time()   # to measure time needed ?! :o   cool\n",
    "t1, _ = np.shape(X)\n",
    "n_samples = 100\n",
    "kwargs = {'max_depth': 10, 'n_trees':50,  'max_samples': n_samples, 'max_buckets': 3, 'epsilon': 0.1, 'sample_axis': 1, \n",
    "  'threshold': 0}\n",
    "forest = Forest(**kwargs) #wo pidforest ufgruefe wird ;)\n",
    "forest.fit(np.transpose(X))\n",
    "indices, outliers, scores , pst, our_scores = forest.predict(np.transpose(X), err = 0.1, pct=50) #oki and this gives us anomalous data/score?\n",
    "end = time.time()\n",
    "time_all[0,0] = end - start"
   ]
  },
  {
   "cell_type": "code",
   "execution_count": null,
   "id": "5ce9bdc7-0ea6-432d-9890-0e8019b37bb8",
   "metadata": {},
   "outputs": [],
   "source": [
    "y = mat_data['y']\n",
    "precision_our, recall_our, thresholds_our = metrics.precision_recall_curve(y, -our_scores, pos_label=1)\n",
    "precision_all[0,0] = max(2*precision_our*recall_our/(precision_our+recall_our))\n",
    "auc_all[0,0] = metrics.roc_auc_score(y, -our_scores)\n",
    "File_object.write(str(kwargs))"
   ]
  },
  {
   "cell_type": "code",
   "execution_count": null,
   "id": "7872ef1f-8d71-4d29-8af9-edaf2bf3e359",
   "metadata": {},
   "outputs": [],
   "source": [
    "#print(our_scores[5416])"
   ]
  },
  {
   "cell_type": "code",
   "execution_count": null,
   "id": "3cd37c2e-bc52-49cf-9756-0856723f8016",
   "metadata": {},
   "outputs": [],
   "source": [
    "#print(pst[5416])"
   ]
  },
  {
   "cell_type": "code",
   "execution_count": null,
   "id": "66f1be79-84c7-497a-86e1-0bf808005df3",
   "metadata": {},
   "outputs": [],
   "source": [
    "#print(pst[5416].shape)"
   ]
  },
  {
   "cell_type": "code",
   "execution_count": null,
   "id": "538c5daf-3d9b-4d1f-8a43-501e9121f703",
   "metadata": {},
   "outputs": [],
   "source": [
    "#print(np.shape(X))"
   ]
  },
  {
   "cell_type": "code",
   "execution_count": null,
   "id": "393b64bd-a3a3-4889-b779-be8697792c8a",
   "metadata": {},
   "outputs": [],
   "source": [
    "j = 0\n",
    "File_object.write('\\n\\tOur-Algo\\n\\n')    \n",
    "\n",
    "File_object.write('{:.4f}\\t'.format( precision_all[j,0] ))\n",
    "File_object.write('\\n')\n",
    "    \n",
    "File_object.write('\\n')   \n",
    "    \n",
    "File_object.write('{:.4f}\\t'.format( np.mean(precision_all[:,0]) ))\n",
    "File_object.write('\\n')   \n",
    "\n",
    "File_object.write('{:.4f}\\t'.format( np.std(precision_all[:,0]) ))\n",
    "File_object.write('\\n')\n",
    "\n",
    "File_object.write('\\tOur-Algo\\n\\n')    \n",
    "    \n",
    "File_object.write('{:.4f}\\t'.format( auc_all[j,0] ))\n",
    "File_object.write('\\n')\n",
    "    \n",
    "File_object.write('\\n') \n",
    "    \n",
    "File_object.write('{:.4f}\\t'.format( np.mean(auc_all[:,0]) ))\n",
    "File_object.write('\\n')    \n",
    "\n",
    "File_object.write('{:.4f}\\t'.format( np.std(auc_all[:,0]) ))\n",
    "File_object.write('\\n')\n",
    "    \n",
    "File_object.close()\n",
    "\n",
    "file_name = newdir + dataset + '_results.mat'\n",
    "sio.savemat(file_name, {'time_all':time_all, 'precision_all':precision_all, 'auc_all':auc_all})"
   ]
  },
  {
   "cell_type": "code",
   "execution_count": null,
   "id": "d98f30a5-5abb-4283-8eb3-58e25f589ae3",
   "metadata": {},
   "outputs": [],
   "source": [
    "X = np.float_(X)\n",
    "[n,d] = np.shape(X)\n",
    "\n",
    "n_samples = 100\n",
    "f = plt.figure()\n",
    "plt.rcParams.update({'font.size': 14})\n",
    "forest = Forest(**kwargs)\n",
    "forest.fit(np.transpose(X))\n",
    "indices, outliers, scores , pst, alg_scores = forest.predict(np.transpose(X), err = 0.1, pct=50)\n",
    "alg_scores = - alg_scores\n",
    "fpr_alg, tpr_alg, thresholds_alg = metrics.roc_curve(y, alg_scores, pos_label=1)\n",
    "#plt.plot(fpr_alg,tpr_alg, 'b')\n",
    "thresh_len = len(fpr_alg)\n",
    "sample_thresh = np.int_( [k * thresh_len/30 for k in range(10)] )\n",
    "sample_thresh = np.concatenate( [sample_thresh, np.asarray([thresh_len-1]) ])\n",
    "auc_all[0,0] = metrics.roc_auc_score(y, alg_scores)\n",
    "plt.plot(fpr_alg[sample_thresh],tpr_alg[sample_thresh], c = 'k', marker = \">\", markersize=10, label= f'PIDForest - AUC:{auc_all[0,0]:.3f}')\n",
    "\n",
    "file_name = newdir + dataset + ' trial '+str(j+1)+'.pdf'\n",
    "plt.xlabel('FPR')\n",
    "plt.ylabel('TPR')\n",
    "plt.legend(loc='best')\n",
    "plt.title('ROC curve')\n",
    "plt.show()\n",
    "f.savefig(file_name, bbox_inches='tight')\n",
    "\n",
    "file_name = newdir + dataset + '_results_plot.mat'\n",
    "sio.savemat(file_name, {'auc_all':auc_all})"
   ]
  },
  {
   "cell_type": "code",
   "execution_count": null,
   "id": "e3f70ce1-1529-452f-8020-d9ad01ba206a",
   "metadata": {},
   "outputs": [],
   "source": [
    "plt.scatter(fpr_alg[sample_thresh],tpr_alg[sample_thresh], c = 'b', marker = \".\", s=100, label='PIDForest')"
   ]
  },
  {
   "cell_type": "code",
   "execution_count": null,
   "id": "a5dd9503-f9df-4b4c-a161-6a2f228371f3",
   "metadata": {},
   "outputs": [],
   "source": []
  },
  {
   "cell_type": "code",
   "execution_count": null,
   "id": "661f3928-889d-4cfc-9bff-d1f38c206d45",
   "metadata": {},
   "outputs": [],
   "source": []
  }
 ],
 "metadata": {
  "kernelspec": {
   "display_name": "Python 3 (ipykernel)",
   "language": "python",
   "name": "python3"
  },
  "language_info": {
   "codemirror_mode": {
    "name": "ipython",
    "version": 3
   },
   "file_extension": ".py",
   "mimetype": "text/x-python",
   "name": "python",
   "nbconvert_exporter": "python",
   "pygments_lexer": "ipython3",
   "version": "3.10.12"
  }
 },
 "nbformat": 4,
 "nbformat_minor": 5
}
