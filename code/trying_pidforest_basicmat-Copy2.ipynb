{
 "cells": [
  {
   "cell_type": "markdown",
   "id": "d1032d08-2cf0-4c9d-a969-edc20b321c34",
   "metadata": {},
   "source": [
    "Everything you need to get the code running + loading of the data."
   ]
  },
  {
   "cell_type": "code",
   "execution_count": 1,
   "id": "0b9522bb",
   "metadata": {},
   "outputs": [],
   "source": [
    "import numpy as np\n",
    "import matplotlib.pyplot as plt\n",
    "import os\n",
    "from scripts.forest import Forest\n",
    "from sklearn.ensemble import IsolationForest\n",
    "from sklearn.neighbors import LocalOutlierFactor\n",
    "from sklearn.svm import OneClassSVM\n",
    "import scripts.timeseries as ts\n",
    "import pandas as pd\n",
    "import time\n",
    "import scipy.io as sio\n",
    "from sklearn import metrics\n",
    "import rrcf\n",
    "import h5py\n",
    "import math\n",
    "import copy\n",
    "from typing import List\n",
    "import numpy as np\n",
    "from numpy.core import ndarray\n",
    "from scripts.hg import Histogram\n",
    "import matplotlib.pyplot as plt\n",
    "from math import log\n",
    "#import awkward as awk"
   ]
  },
  {
   "cell_type": "code",
   "execution_count": 2,
   "id": "ab06dd73",
   "metadata": {
    "scrolled": true
   },
   "outputs": [
    {
     "name": "stdout",
     "output_type": "stream",
     "text": [
      "(7200, 6)\n"
     ]
    }
   ],
   "source": [
    "dataset = 'thyroid'\n",
    "trials = 1\n",
    "run_lof_svm = 1\n",
    "mat_data = sio.loadmat('../data/'+dataset+'.mat')\n",
    "X = mat_data['X']\n",
    "t = X[0,0]\n",
    "newdir = 'pidtrials/'\n",
    "if not os.path.exists(newdir):\n",
    "    os.makedirs(newdir)\n",
    "file_name = newdir + dataset + '.txt'\n",
    "File_object = open(file_name,\"w\")   \n",
    "print(X.shape)"
   ]
  },
  {
   "cell_type": "markdown",
   "id": "632e62f0-0422-46f4-833b-9cee7c2248ea",
   "metadata": {},
   "source": [
    "Let's get into forest.fit"
   ]
  },
  {
   "cell_type": "code",
   "execution_count": 37,
   "id": "de2b5518",
   "metadata": {},
   "outputs": [],
   "source": [
    "## define our parameters!\n",
    "trials = 1\n",
    "time_all = np.zeros((trials,1))\n",
    "precision_all = np.zeros((trials,1))\n",
    "auc_all = np.zeros((trials,1))\n",
    "start = time.time()   # to measure time needed ?! :o   cool\n",
    "t1, _ = np.shape(X)\n",
    "n_samples = 100\n",
    "kwargs = {'max_depth': 10, 'n_trees':50,  'max_samples': n_samples, 'max_buckets': 3, 'epsilon': 0.1, 'sample_axis': 1, \n",
    "  'threshold': 0}\n",
    "# probably more buckets needed if bigger dataset / more attributes"
   ]
  },
  {
   "cell_type": "code",
   "execution_count": 38,
   "id": "89d0f80c-2c9d-4c90-8da7-0a9700c9ced9",
   "metadata": {},
   "outputs": [],
   "source": [
    "def compress(arr, eps):\n",
    "    min_val = np.min(arr[np.nonzero(arr)])\n",
    "    max_val = np.max(arr[np.nonzero(arr)])\n",
    "    k = int(math.log(max_val / min_val) / math.log(1 + eps))\n",
    "    sp_vals = sorted({min_val * ((1 + eps) ** i) for i in range(k + 1)})\n",
    "    sp_indices = sorted(set(np.searchsorted(arr, sp_vals)))\n",
    "    compress_arr = {index: arr[index] for index in sp_indices}\n",
    "    return compress_arr\n",
    "\n",
    "class Histogram:\n",
    "\n",
    "    def __init__(self, val, count, max_buckets, eps):\n",
    "        self.num = len(val)\n",
    "        self.max_buckets = max_buckets\n",
    "        self.val = val\n",
    "        self.count = count\n",
    "        self.eps = eps\n",
    "        self.err, self.b_values = approx_buckets(val, count, max_buckets, eps)\n",
    "\n",
    "    def __str__(self):\n",
    "        str_val = \"\"\n",
    "        for i in range(self.max_buckets):\n",
    "            str_val += \"Level \" + str(i) + \":\"\n",
    "            for b_val in self.b_values[i]:\n",
    "                a_val, err_a, _, _, _ = self.b_values[i][b_val]\n",
    "                str_val += \" (\" + str(a_val) + \", \" + str(b_val) + \"): \" + str(err_a) + \", \"\n",
    "            str_val += \"\\n\"\n",
    "        return str_val\n",
    "\n",
    "    def test(self):\n",
    "        print(str(self))\n",
    "        for i in range(1, self.max_buckets):\n",
    "            print(self.compute_buckets(i))\n",
    "        print(\"Best Buckets: \")\n",
    "        print(self.best_split())\n",
    "\n",
    "    def best_split(self):\n",
    "        if self.err[0] == 0:\n",
    "            return 0, 0, []\n",
    "        err_red = [(self.err[0] - self.err[i]) for i in range(1, self.max_buckets)]\n",
    "        var_red = np.max(err_red) / self.err[0]\n",
    "        if var_red < 0:\n",
    "            print(\"error: var_red is\", var_red)\n",
    "            var_red = 0\n",
    "        opt = np.argmax(err_red) + 2  # why +2 and not +1 ???????\n",
    "        buckets = self.compute_buckets(opt)\n",
    "        return opt, var_red, buckets[1:]\n",
    "\n",
    "    def compute_buckets(self, num_buckets):\n",
    "        buckets = []\n",
    "        end = self.num - 1\n",
    "        k = num_buckets - 1\n",
    "        while end >= 0:\n",
    "            start = int(self.b_values[k][end][0])\n",
    "            if start <= end:\n",
    "                buckets.append(start)\n",
    "            end = start - 1\n",
    "            k -= 1\n",
    "        return np.flip(buckets, axis=0)\n",
    "\n",
    "\n",
    "def two_split(val, count):\n",
    "    p_count = np.cumsum(count)\n",
    "    s_count = p_count[-1] - p_count\n",
    "    p_sum = np.cumsum(val*count)\n",
    "    s_sum = p_sum[-1] - p_sum\n",
    "    scores = (p_sum**2)[:-1]/p_count[:-1] + (s_sum**2)[:-1]/s_count[:-1]\n",
    "    return scores\n",
    "\n",
    "\n",
    "def approx_buckets(arr, count, max_buckets, eps):\n",
    "    \"\"\"params:\n",
    "    vals: the array of values\n",
    "    counts: the array of counts\n",
    "    max_buckets: the number of buckets\n",
    "    eps: an approximation parameter\n",
    "    returns:\n",
    "     1) an array cur_err[k], which gives the error of the best histogram with k buckets.\n",
    "     2) a dictionary b_values.\n",
    "    b_values stores a collection of intervals for each level k where 0 <= k < B. It is indexed by\n",
    "    the level k and the endpoint b of an interval (a,b) at level k.\n",
    "    The value is a 4 tuple:\n",
    "    1) a: start point of the interval\n",
    "    2) ApxError(b,k) for that point.\n",
    "    3) sum until b\n",
    "    4) sum of squares until b\n",
    "    5) total count until b\"\"\"\n",
    "    err_a = np.zeros(max_buckets) - 1\n",
    "    cur_err = np.zeros(max_buckets)\n",
    "    b_values = [{} for _ in range(max_buckets)]\n",
    "    cur_sum = 0\n",
    "    cur_sq = 0\n",
    "    cur_pts = 0\n",
    "    for j in range(len(arr)):\n",
    "        cur_sum += arr[j] * count[j]\n",
    "        cur_sq += (arr[j] ** 2) * count[j]\n",
    "        cur_pts += count[j]\n",
    "        cur_err[0] = cur_sq - cur_sum**2/cur_pts\n",
    "        if cur_err[0] > (1 + eps) * err_a[0]:\n",
    "            err_a[0] = cur_err[0]\n",
    "        else:\n",
    "            del b_values[0][j - 1]\n",
    "        b_values[0][j] = (0, cur_err[0], cur_sum, cur_sq, cur_pts)\n",
    "        for k in range(1, max_buckets):\n",
    "            cur_err[k] = cur_err[k - 1]\n",
    "            a_val = j + 1\n",
    "            for b_val in b_values[k - 1].keys():\n",
    "                if b_val < j:\n",
    "                    _, b_err, b_sum, b_sq, b_pts = b_values[k - 1][b_val]\n",
    "                    tmp_error = b_err + cur_sq - b_sq - (cur_sum - b_sum) ** 2 / (cur_pts - b_pts)\n",
    "                    if tmp_error < cur_err[k]:\n",
    "                        cur_err[k] = tmp_error\n",
    "                        a_val = b_val + 1\n",
    "            b_values[k][j] = (a_val, cur_err[k], cur_sum, cur_sq, cur_pts)\n",
    "            if cur_err[k] > (1 + eps) * err_a[k]:\n",
    "                err_a[k] = cur_err[k]\n",
    "            else:\n",
    "                del b_values[k][j - 1]\n",
    "   # print(type(b_values))\n",
    "\n",
    "    return cur_err, b_values"
   ]
  },
  {
   "cell_type": "code",
   "execution_count": null,
   "id": "01049165-f690-4360-9598-a67a66d953f6",
   "metadata": {},
   "outputs": [],
   "source": []
  },
  {
   "cell_type": "code",
   "execution_count": 39,
   "id": "e924119f-2378-414d-9357-82b4e968db59",
   "metadata": {},
   "outputs": [],
   "source": [
    "to_print = False\n",
    "\n",
    "class Forest:\n",
    "    \"\"\"This creates a forest of trees, given the following list of parameters:\n",
    "    1) n_trees: the number of trees\n",
    "    2) max_depth: the depth of the trees\n",
    "    3) max_samples: number of samples per tree\n",
    "    4) max_buckets: maximum number of buckets used by the histogram\n",
    "    5) epsilon: accuracy of the histogram\"\"\"\n",
    "    dim = ...  # type: int\n",
    "    size = ...  # type: int\n",
    "    points = ...  # type: ndarray\n",
    "    start = ...  # type: ndarray\n",
    "    end = ...  # type: ndarray\n",
    "\n",
    "    def __init__(self, **kwargs):\n",
    "        self.n_trees = kwargs['n_trees']\n",
    "        self.max_depth = kwargs['max_depth']\n",
    "        self.max_samples = kwargs['max_samples']\n",
    "        self.max_buckets = kwargs['max_buckets']\n",
    "        self.epsilon = kwargs['epsilon']\n",
    "        self.sample_axis = kwargs['sample_axis']\n",
    "        self.threshold = kwargs['threshold']\n",
    "        self.tree = []\n",
    "        self.dimensionchosen = []   ## this is new\n",
    "        self.split_dict = {}  ## new \n",
    "        self.counter_split = 0  ## new\n",
    "        # np.random.seed(seed = 17)\n",
    "        self.n_leaves = np.zeros(self.n_trees)\n",
    "\n",
    "    def fit(self, pts):\n",
    "        self.points = pts\n",
    "        self.dim, self.size = np.shape(self.points)\n",
    "        if int(self.sample_axis*self.dim) == 0:\n",
    "            print(\"sample_axis is too low\")\n",
    "            return\n",
    "        self.start = np.zeros(self.dim)\n",
    "        self.end = np.zeros(self.dim)\n",
    "        for axis in range(self.dim):\n",
    "            val = np.unique(np.array(self.points[axis]))\n",
    "            if len(val) <= 1:\n",
    "                print(\"No entropy in dimension :\", axis)\n",
    "                return\n",
    "            self.start[axis] = (3 * val[0] - val[1]) / 2\n",
    "            self.end[axis] = (3 * val[-1] - val[-2]) / 2\n",
    "        k_args = {'depth': 0, 'forest': self}\n",
    "        max_sample_size = np.min((self.size, self.max_depth*200))\n",
    "        sample = np.random.choice(self.size, max_sample_size, replace=False)\n",
    "\n",
    "    \n",
    "        for i in range(self.n_trees):\n",
    "            \n",
    "            ###new\n",
    "            self.counter_split = i\n",
    "            self.split_dict[self.counter_split] = {}\n",
    "            for j in range(self.dim):\n",
    "                self.split_dict[self.counter_split][j] = []\n",
    "            ### ok\n",
    "            \n",
    "            k_args['indices'] = np.random.choice(self.size, self.max_samples, replace=False)\n",
    "            root_node = Node(**k_args)\n",
    "            root_node.compute_density(sample)\n",
    "            self.tree.append(root_node)\n",
    "            self.n_leaves[i] = root_node.compute_leaf_num()\n",
    "\n",
    "           \n",
    "    def plt_scores(self, pts):\n",
    "        _, n_pts = np.shape(pts)\n",
    "        n_show = int(2 * self.n_trees / 3)\n",
    "        scores = np.zeros((self.n_trees, n_pts))  # need to do this streaming\n",
    "        indices = [i for i in range(n_pts)]\n",
    "        for i in range(self.n_trees):\n",
    "            self.tree[i].compute_split(pts, indices, scores[i])\n",
    "        for i in range(n_pts):\n",
    "            plt.plot(np.sort(scores[:, i])[:n_show])\n",
    "            plt.show()\n",
    "\n",
    "    def predict(self, pts, err=0.1, pct=50):\n",
    "        _, n_pts = np.shape(pts)\n",
    "        scores = np.zeros((self.n_trees, n_pts))  # need to do this streaming\n",
    "        indices = [i for i in range(n_pts)]\n",
    "        for i in range(self.n_trees):\n",
    "            self.tree[i].compute_split(pts, indices, scores[i])\n",
    "        n_err = int(err * n_pts)\n",
    "        min_score = np.percentile(scores, pct, axis=0)\n",
    "        top_indices = np.argsort(min_score)[:n_err]\n",
    "        anom_pts = {}\n",
    "        anom_scores = {}\n",
    "        anom_pct = {}\n",
    "        for i in range(n_err):\n",
    "            anom_pts[top_indices[i]] = pts[:, top_indices[i]]\n",
    "            anom_scores[top_indices[i]] = scores[:, top_indices[i]]\n",
    "            anom_pct[top_indices[i]] = min_score[top_indices[i]]\n",
    "        return top_indices, anom_pts, anom_scores, anom_pct, min_score\n",
    "    \n",
    "    def predict_depth(self, pts, err=0.1, pct=50):\n",
    "        _, n_pts = np.shape(pts)\n",
    "        scores = np.zeros((self.n_trees, n_pts))  # need to do this streaming\n",
    "        indices = [i for i in range(n_pts)]\n",
    "        for i in range(self.n_trees):\n",
    "            self.tree[i].compute_depth(pts, indices, scores[i])\n",
    "        n_err = int(err * n_pts)\n",
    "        min_score = np.percentile(scores, pct, axis=0)\n",
    "        top_indices = np.argsort(min_score)[:n_err]\n",
    "        anom_pts = {}\n",
    "        anom_scores = {}\n",
    "        anom_pct = {}\n",
    "        for i in range(n_err):\n",
    "            anom_pts[top_indices[i]] = pts[:, top_indices[i]]\n",
    "            anom_scores[top_indices[i]] = scores[:, top_indices[i]]\n",
    "            anom_pct[top_indices[i]] = min_score[top_indices[i]]\n",
    "        return top_indices, anom_pts, anom_scores, anom_pct, min_score\n",
    "    \n",
    "    def find_min_cube(self, pts, n_err=1, pct1=50, pct2=50):\n",
    "        _, n_pts = np.shape(pts)\n",
    "        scores = np.zeros((self.n_trees, n_pts))  # need to do this streaming\n",
    "        indices = [i for i in range(n_pts)]\n",
    "        for i in range(self.n_trees):\n",
    "            self.tree[i].compute_split(pts, indices, scores[i])\n",
    "        min_score = np.percentile(scores, pct1, axis=0)\n",
    "        top_indices = np.argsort(min_score)[:n_err]\n",
    "        sort_trees = np.argsort(scores, axis=0)\n",
    "        min_tree = sort_trees[int(self.n_trees*pct2/100.0)]\n",
    "        boxes = []\n",
    "        for i in range(0,n_err):\n",
    "            print('----')\n",
    "            best_tree = min_tree[top_indices[i]]\n",
    "            boxes.append( self.tree[best_tree].compute_box(pts[:,top_indices[i]]) )\n",
    "            # boxes = self.tree[best_tree].compute_box(pts[:,top_indices[i]])\n",
    "        return top_indices, boxes\n",
    "\n",
    "\n",
    "class PointSet:\n",
    "    def __init__(self, node, indices):\n",
    "        self.node = node\n",
    "        self.indices = indices\n",
    "        self.val = []\n",
    "        self.count = []\n",
    "        self.gap = []\n",
    "        for axis in range(self.node.forest.dim):\n",
    "            val, count = np.unique(np.array(self.node.forest.points[axis, self.indices]), return_counts=True)\n",
    "            self.val.append(val)\n",
    "            self.count.append(count)\n",
    "            if len(val) <= 1:\n",
    "                gap = [0]\n",
    "            else:\n",
    "                gap = np.zeros(len(val))\n",
    "                gap[0] = (val[0] + val[1]) / 2 - self.node.cube.start[axis]\n",
    "                gap[-1] = self.node.cube.end[axis] - (val[-1] + val[-2]) / 2\n",
    "                for i in range(1, len(val) - 1):\n",
    "                    gap[i] = (val[i + 1] - val[i - 1]) / 2\n",
    "            self.gap.append(gap)\n",
    "\n",
    "\n",
    "class Cube:\n",
    "    def __init__(self, node, start, end):\n",
    "        assert isinstance(node, Node)   # this just checks if there is a node, right??\n",
    "        self.node = node\n",
    "        self.child = []\n",
    "        self.start = start\n",
    "        self.end = end\n",
    "        self.dim = len(start)\n",
    "        self.split_axis = -1\n",
    "        self.split_vals = []\n",
    "        self.vol = 0\n",
    "        for i in range(self.dim): # in the case of the thyroid, this dimension is 6\n",
    "            #print(self.end[i] - self.start[i])\n",
    "            self.vol += log(self.end[i] - self.start[i])  # here, why are we adding to the volume and not mupltiplying ? bc of the log ?\n",
    "        #print('testing')\n",
    "\n",
    "    def filter_indices(self, indices):\n",
    "        in_lb = self.node.forest.points[:, indices] >= self.start.reshape(self.dim, 1)\n",
    "        in_ub = self.node.forest.points[:, indices] < self.end.reshape(self.dim, 1)\n",
    "        return [indices[i] for i in range(len(indices)) if in_lb[:, i].all() and in_ub[:, i].all()]\n",
    "\n",
    "    def split_indices(self, pts, indices):\n",
    "        n_child = len(self.child)\n",
    "        if n_child == 0:\n",
    "            return indices\n",
    "        n_arr = len(indices)\n",
    "        if n_arr == 0:\n",
    "            return [[] for _ in range(n_child)]\n",
    "        s_arr = pts[self.split_axis]\n",
    "        s_start = self.start[self.split_axis]\n",
    "        s_end = self.end[self.split_axis]\n",
    "        index_split = [[] for _ in range(n_child)]\n",
    "        index_split[0] = [ind for ind in indices if ((s_arr[ind] >= s_start) and (s_arr[ind] < self.split_vals[0]))]\n",
    "        index_split[-1] = [ind for ind in indices if ((s_arr[ind] >= self.split_vals[-1]) and (s_arr[ind] < s_end))]\n",
    "        for k in range(1, n_child - 1):\n",
    "            index_split[k] = [ind for ind in indices if (s_arr[ind] >= self.split_vals[k - 1]) and\n",
    "                              (s_arr[ind] < self.split_vals[k])]\n",
    "        return index_split\n",
    "\n",
    "class Node:\n",
    "\n",
    "    def __init__(self, depth, forest, **kwargs):\n",
    "        self.depth = depth\n",
    "        self.forest = forest\n",
    "\n",
    "        if self.depth == 0:\n",
    "            self.id_string = [0]\n",
    "            self.cube = Cube(self, self.forest.start, self.forest.end)\n",
    "            self.point_set = PointSet(self, kwargs['indices'])\n",
    "        else:\n",
    "            self.id_string = kwargs['id']\n",
    "            self.cube = Cube(self, kwargs['start'], kwargs['end'])\n",
    "            self.point_set = PointSet(self, self.cube.filter_indices(kwargs['indices']))\n",
    "        self.density = -1\n",
    "        self.child = []\n",
    "        if (self.depth < self.forest.max_depth) and (len(self.point_set.indices) > 1):\n",
    "            self.find_split()\n",
    "\n",
    "    def find_split(self): # here we find out which axis gives us what variance reduction ..\n",
    "        imp_axis = [axis for axis in range(self.cube.dim) if len(self.point_set.val[axis]) > 1]\n",
    "        #print(f\"important axis length {len(imp_axis)}\")\n",
    "        if not imp_axis:\n",
    "            return\n",
    "        max_axes = min(len(imp_axis), int(self.forest.sample_axis * self.cube.dim))\n",
    "        s_axes = np.random.choice(imp_axis, max_axes, replace=False)\n",
    "        buckets = {}\n",
    "        var_red = {}\n",
    "        for axis in s_axes:\n",
    "            hist = Histogram(self.point_set.gap[axis] / self.point_set.count[axis], self.point_set.count[axis],\n",
    "                             self.forest.max_buckets, self.forest.epsilon)\n",
    "            _, var_red[axis], buckets[axis] = hist.best_split()\n",
    "        #print(f\"var_red{var_red[0]}, buckets {buckets[0]}\")\n",
    "        if np.max(list(var_red.values())) <= self.forest.threshold:\n",
    "            return\n",
    "        split_axis = np.random.choice(s_axes, p=list(var_red.values()) / np.sum(list(var_red.values())))\n",
    "        #print(f\"s_axes {s_axes}, p {list(var_red.values()) / np.sum(list(var_red.values()))} \")\n",
    "        #print(f\"split_axis {split_axis}\")\n",
    "        # here the choice is based on probability?\n",
    "        self.cube.split_axis = split_axis\n",
    "        self.cube.split_vals = [(self.point_set.val[split_axis][i - 1] + self.point_set.val[split_axis][i]) / 2 for i in\n",
    "                                buckets[split_axis]]  \n",
    "        # okay but i think truly THIS is where the actual splitting is happening.... right ???????????????\n",
    "        # split_axis a good variable to keep track of bc.. thats where it's starting to split :) \n",
    "        # but the choice seems to be based on probability rather than a set criteria.. am i wrong?\n",
    "        # so the p input tells the probability distribution of it :)) so the random choice is based on a pdf instead of assuming its uniform\n",
    "        self.forest.dimensionchosen.append(split_axis)  ## new\n",
    "        #print(f\"split_axis {split_axis}, split_vals {self.cube.split_vals}\")\n",
    "        ## here to store it in the dictionary\n",
    "        self.forest.split_dict[self.forest.counter_split][split_axis].append(self.cube.split_vals)  ## new\n",
    "        ##\n",
    "        for i in range(len(self.cube.split_vals) + 1):\n",
    "            new_start = np.array(self.cube.start)\n",
    "            new_end = np.array(self.cube.end)\n",
    "            if 0 < i < len(self.cube.split_vals):\n",
    "                new_start[split_axis] = self.cube.split_vals[i - 1]\n",
    "                new_end[split_axis] = self.cube.split_vals[i]\n",
    "            elif i == 0:\n",
    "                new_end[split_axis] = self.cube.split_vals[0]\n",
    "            else:  # i == len(self.cube.split_vals)\n",
    "                new_start[split_axis] = self.cube.split_vals[-1]\n",
    "            new_id = copy.deepcopy(self.id_string)\n",
    "            new_id.append(i)\n",
    "            kwargs = {'start': new_start, 'end': new_end}\n",
    "            kwargs.update({'indices': self.point_set.indices, 'id': new_id})\n",
    "            child_node = Node(self.depth + 1, self.forest, **kwargs) # recursive Node\n",
    "            self.child.append(child_node)\n",
    "            self.cube.child.append(child_node.cube)\n",
    "\n",
    "    def compute_density(self, indices):\n",
    "        num = len(indices)\n",
    "        if num == 0:\n",
    "            self.density = 0\n",
    "            self.child = []\n",
    "            self.cube.child = []\n",
    "            self.cube.split_axis = -1\n",
    "            return\n",
    "        self.density = log(num) - self.cube.vol\n",
    "        if self.child:\n",
    "            index_split = self.cube.split_indices(self.forest.points, indices)\n",
    "            for i in range(len(self.child)):\n",
    "                self.child[i].compute_density(index_split[i])\n",
    "\n",
    "    def compute_leaf_num(self):\n",
    "        if self.child:\n",
    "            leaves = 0\n",
    "            for i in range(len(self.child)):\n",
    "                leaves += self.child[i].compute_leaf_num()\n",
    "            return leaves\n",
    "        else:\n",
    "            return 1\n",
    "\n",
    "    def compute_split(self, pts, indices, scores):\n",
    "        if self.child:\n",
    "            index_split = self.cube.split_indices(pts, indices)\n",
    "            for i in range(len(self.child)):\n",
    "                if len(index_split[i]) > 0:\n",
    "                    self.child[i].compute_split(pts, index_split[i], scores)\n",
    "        else:\n",
    "            scores[indices] = self.density\n",
    "            \n",
    "    def compute_box(self, pts):\n",
    "        if self.child:\n",
    "            n_child = len(self.child)\n",
    "            s_arr = pts[self.cube.split_axis]\n",
    "            print('splitting on axis '+str(self.cube.split_axis)) \n",
    "            s_start = self.cube.start[self.cube.split_axis]\n",
    "            s_end = self.cube.end[self.cube.split_axis]\n",
    "            if ((s_arr >= s_start) and (s_arr < self.cube.split_vals[0])):\n",
    "                #print('splitting on axis '+str(self.cube.split_axis)) \n",
    "                return(self.child[0].compute_box(pts))\n",
    "            elif ((s_arr >= self.cube.split_vals[-1]) and (s_arr < s_end)):\n",
    "                #print('splitting on axis '+str(self.cube.split_axis)) \n",
    "                return(self.child[-1].compute_box(pts))\n",
    "            else:\n",
    "                for k in range(1, n_child - 1):\n",
    "                    if (s_arr >= self.cube.split_vals[k - 1]) and (s_arr < self.cube.split_vals[k]):\n",
    "                        #print(str(k)+'splitting on axis '+str(self.cube.split_axis)+'\\n') \n",
    "                        return(self.child[k].compute_box(pts))\n",
    "        else:\n",
    "            return self.cube\n",
    "        \n",
    "    def compute_depth(self, pts, indices, scores):\n",
    "        if self.child:\n",
    "            index_split = self.cube.split_indices(pts, indices)\n",
    "            for i in range(len(self.child)):\n",
    "                if len(index_split[i]) > 0:\n",
    "                    self.child[i].compute_depth(pts, index_split[i], scores)\n",
    "        else:\n",
    "            scores[indices] = self.depth    \n",
    "\n",
    "    def __str__(self):\n",
    "        str_val = \"Id: \" + str(self.id_string) + \"\\n\"\n",
    "        str_val += \"Boundary: \"\n",
    "        for i in range(self.cube.dim):\n",
    "            str_val += \" [\" + str(self.cube.start[i]) + \", \" + str(self.cube.end[i]) + \"]\"\n",
    "            if i < self.cube.dim - 1:\n",
    "                str_val += \" x\"\n",
    "            else:\n",
    "                str_val += \"\\n\"\n",
    "        str_val += \"Points:\\n \" + str(np.transpose(self.point_set.points)) + \"\\n\"\n",
    "        str_val += \"Indices: \" + str(self.point_set.indices) + \"\\n\"\n",
    "        return str_val\n",
    "\n",
    "    def print_node(self):\n",
    "        print_list = [self]\n",
    "        while print_list:\n",
    "            node = print_list.pop(0)\n",
    "            print(str(node))\n",
    "            print_list.extend(node.child)"
   ]
  },
  {
   "cell_type": "code",
   "execution_count": 40,
   "id": "d9f538ac-51a2-47a3-88fa-8af581294eda",
   "metadata": {},
   "outputs": [],
   "source": [
    "forest = Forest(**kwargs)"
   ]
  },
  {
   "cell_type": "code",
   "execution_count": 42,
   "id": "1dbabfc4-a7f1-462a-8ec4-9717a37fcb65",
   "metadata": {},
   "outputs": [],
   "source": [
    "output = forest.fit(np.transpose(X))"
   ]
  },
  {
   "cell_type": "code",
   "execution_count": 51,
   "id": "7b193e0d-a028-4398-889e-70610f9912fa",
   "metadata": {},
   "outputs": [
    {
     "name": "stdout",
     "output_type": "stream",
     "text": [
      "this is the histogram of splits of dimension 0 and its length 322\n"
     ]
    },
    {
     "data": {
      "image/png": "[encoded data removed]",
      "text/plain": [
       "<Figure size 640x480 with 1 Axes>"
      ]
     },
     "metadata": {},
     "output_type": "display_data"
    },
    {
     "name": "stdout",
     "output_type": "stream",
     "text": [
      "this is the histogram of splits of dimension 1 and its length 397\n"
     ]
    },
    {
     "data": {
      "image/png": "[encoded data removed]",
      "text/plain": [
       "<Figure size 640x480 with 1 Axes>"
      ]
     },
     "metadata": {},
     "output_type": "display_data"
    },
    {
     "name": "stdout",
     "output_type": "stream",
     "text": [
      "this is the histogram of splits of dimension 2 and its length 373\n"
     ]
    },
    {
     "data": {
      "image/png": "[encoded data removed]",
      "text/plain": [
       "<Figure size 640x480 with 1 Axes>"
      ]
     },
     "metadata": {},
     "output_type": "display_data"
    },
    {
     "name": "stdout",
     "output_type": "stream",
     "text": [
      "this is the histogram of splits of dimension 3 and its length 377\n"
     ]
    },
    {
     "data": {
      "image/png": "[encoded data removed]",
      "text/plain": [
       "<Figure size 640x480 with 1 Axes>"
      ]
     },
     "metadata": {},
     "output_type": "display_data"
    },
    {
     "name": "stdout",
     "output_type": "stream",
     "text": [
      "this is the histogram of splits of dimension 4 and its length 408\n"
     ]
    },
    {
     "data": {
      "image/png": "[encoded data removed]",
      "text/plain": [
       "<Figure size 640x480 with 1 Axes>"
      ]
     },
     "metadata": {},
     "output_type": "display_data"
    },
    {
     "name": "stdout",
     "output_type": "stream",
     "text": [
      "this is the histogram of splits of dimension 5 and its length 385\n"
     ]
    },
    {
     "data": {
      "image/png": "[encoded data removed]",
      "text/plain": [
       "<Figure size 640x480 with 1 Axes>"
      ]
     },
     "metadata": {},
     "output_type": "display_data"
    }
   ],
   "source": [
    "splits_of_dict = forest.split_dict\n",
    "ll = []\n",
    "for jj in range(forest.dim):\n",
    "    ll = []\n",
    "    for i in range(forest.n_trees):\n",
    "        ll += [item for sublist in splits_of_dict[i][jj] for item in sublist]\n",
    "    print(f\"this is the histogram of splits of dimension {jj} and its length {len(ll)}\")\n",
    "    plt.hist(ll, bins = 40)\n",
    "    plt.show()"
   ]
  },
  {
   "cell_type": "code",
   "execution_count": 49,
   "id": "ef6409e7-b2d8-49ee-b287-e1b7e7a7ed8b",
   "metadata": {},
   "outputs": [
    {
     "data": {
      "image/png": "[encoded data removed]",
      "text/plain": [
       "<Figure size 640x480 with 1 Axes>"
      ]
     },
     "metadata": {},
     "output_type": "display_data"
    }
   ],
   "source": [
    "plt.hist(forest.dimensionchosen, bins= forest.dim)\n",
    "plt.show()\n",
    "pass"
   ]
  },
  {
   "cell_type": "code",
   "execution_count": null,
   "id": "dd47bd6c-9c13-4c72-ab7e-068c96f1b1bb",
   "metadata": {},
   "outputs": [],
   "source": []
  },
  {
   "cell_type": "code",
   "execution_count": null,
   "id": "5a045ef8-8319-4632-baec-86051fce01a7",
   "metadata": {},
   "outputs": [],
   "source": []
  },
  {
   "cell_type": "code",
   "execution_count": null,
   "id": "ef931804-8976-4c08-aea6-eef1a11877e7",
   "metadata": {},
   "outputs": [],
   "source": []
  },
  {
   "cell_type": "code",
   "execution_count": null,
   "id": "15632fa3-e9f0-4056-9e24-0eff196c4b13",
   "metadata": {},
   "outputs": [],
   "source": []
  },
  {
   "cell_type": "code",
   "execution_count": null,
   "id": "c27ef565-766b-4a6b-adba-a9cb96c4fcaa",
   "metadata": {},
   "outputs": [],
   "source": []
  },
  {
   "cell_type": "code",
   "execution_count": null,
   "id": "d33ae524-98d1-4e8a-9815-8aad09769f9b",
   "metadata": {},
   "outputs": [],
   "source": []
  },
  {
   "cell_type": "code",
   "execution_count": null,
   "id": "8a9a101f-3560-4003-a005-2ec50228e4fd",
   "metadata": {},
   "outputs": [],
   "source": [
    "dont run more than here"
   ]
  },
  {
   "cell_type": "code",
   "execution_count": null,
   "id": "74dacdf1-5079-4fd3-b116-6ae2a70b106d",
   "metadata": {},
   "outputs": [],
   "source": [
    "# experimental area of the notebook"
   ]
  },
  {
   "cell_type": "code",
   "execution_count": null,
   "id": "6671d664-820c-43eb-89a0-707ee6357699",
   "metadata": {},
   "outputs": [],
   "source": [
    "emptydict = {}"
   ]
  },
  {
   "cell_type": "code",
   "execution_count": null,
   "id": "0732e309-02ea-4eba-8b7c-7612237b2585",
   "metadata": {},
   "outputs": [],
   "source": [
    "for i in range(0,5):\n",
    "    emptydict[i] = []"
   ]
  },
  {
   "cell_type": "code",
   "execution_count": null,
   "id": "d5039d94-34ea-486a-b28a-efa03b05219c",
   "metadata": {},
   "outputs": [],
   "source": [
    "emptydict[1].append([23,1,34,23])\n",
    "#emptydict[4].append([6,2,4,1,34,2,32,41,2413,4,3])"
   ]
  },
  {
   "cell_type": "code",
   "execution_count": null,
   "id": "5a8beb68-5cbf-431e-ba2d-1b9184e9bb53",
   "metadata": {},
   "outputs": [],
   "source": [
    "Input: myDict = {}\n",
    "           myDict[\"key1\"] = [1, 2]                          # Adding list as value\n",
    "           myDict[\"key2\"] = [\"Geeks\", \"For\", \"Geeks\"] \n",
    "Output: {'key2': ['Geeks', 'For', 'Geeks'], 'key1': [1, 2]} \n",
    "Explanation: In the output, we have a dictionary of lists."
   ]
  },
  {
   "cell_type": "code",
   "execution_count": null,
   "id": "3f850ca5-bd11-4f7c-8495-7dbeeb615309",
   "metadata": {},
   "outputs": [],
   "source": [
    "emptydict"
   ]
  },
  {
   "cell_type": "code",
   "execution_count": null,
   "id": "35d8cabc-3144-4ad8-b902-e95a01c283af",
   "metadata": {},
   "outputs": [],
   "source": [
    "emptydict[2].append([23,1,34,23])\n"
   ]
  },
  {
   "cell_type": "code",
   "execution_count": null,
   "id": "853d4c32-c1f2-45c1-be38-2d95ca730a00",
   "metadata": {},
   "outputs": [],
   "source": [
    "emptydict[4].append([2])"
   ]
  },
  {
   "cell_type": "code",
   "execution_count": null,
   "id": "2bcc9b75-add2-4706-87f8-5f5ddbac8806",
   "metadata": {},
   "outputs": [],
   "source": [
    "original_list = emptydict[1]\n"
   ]
  },
  {
   "cell_type": "code",
   "execution_count": null,
   "id": "33f0bf74-178a-45e6-a576-a78b77396385",
   "metadata": {},
   "outputs": [],
   "source": [
    "flat_list = [item for sublist in original_list for item in sublist]"
   ]
  },
  {
   "cell_type": "code",
   "execution_count": null,
   "id": "75892e91-d43a-41a0-a669-574bb4937ac7",
   "metadata": {},
   "outputs": [],
   "source": [
    "print(flat_list)"
   ]
  },
  {
   "cell_type": "code",
   "execution_count": null,
   "id": "a8a4331c-34ba-40d6-acd2-653ba38c9a11",
   "metadata": {},
   "outputs": [],
   "source": [
    "emptydict"
   ]
  },
  {
   "cell_type": "code",
   "execution_count": null,
   "id": "d878bf36-4bd7-47e4-bc56-ccb7207fa5e4",
   "metadata": {},
   "outputs": [],
   "source": [
    ">>> d = {}\n",
    ">>> d['dict1'] = {}\n",
    ">>> \n",
    ">>> d['dict1']['innerkey2'] = 'value2'\n",
    ">>> d\n",
    "{'dict1': {'innerkey': 'value', 'innerkey2': 'value2'}}"
   ]
  },
  {
   "cell_type": "code",
   "execution_count": null,
   "id": "63c6e72e-0f35-4384-a8de-9ef75ef0f0c6",
   "metadata": {},
   "outputs": [],
   "source": [
    "d = {}"
   ]
  },
  {
   "cell_type": "code",
   "execution_count": null,
   "id": "8c525321-edd9-40a3-8bc8-ae7129896e7b",
   "metadata": {},
   "outputs": [],
   "source": [
    "d['dict1'] = {}"
   ]
  },
  {
   "cell_type": "code",
   "execution_count": null,
   "id": "a7c59477-d6fe-4d7a-af34-3bce45b26a81",
   "metadata": {},
   "outputs": [],
   "source": [
    "d['dict1']['innerkey'] = 'value'"
   ]
  },
  {
   "cell_type": "code",
   "execution_count": null,
   "id": "6501a246-54a1-4264-84e6-f2efda9d724f",
   "metadata": {},
   "outputs": [],
   "source": [
    "d"
   ]
  },
  {
   "cell_type": "code",
   "execution_count": null,
   "id": "448df943-895b-4038-9674-5f5255b606c8",
   "metadata": {},
   "outputs": [],
   "source": [
    "d['dict1']['innerkey'] = 'value'"
   ]
  },
  {
   "cell_type": "code",
   "execution_count": null,
   "id": "45413cf8-04e2-465a-8669-bc391ec21ee4",
   "metadata": {},
   "outputs": [],
   "source": [
    "d"
   ]
  },
  {
   "cell_type": "code",
   "execution_count": null,
   "id": "6f133da8-5b7e-474d-b164-a8c2ff828244",
   "metadata": {},
   "outputs": [],
   "source": [
    "d['dict1']['innerkey2'] = 'value2'"
   ]
  },
  {
   "cell_type": "code",
   "execution_count": null,
   "id": "d7cdc3c1-ecd7-42b9-8723-a9a9d4093793",
   "metadata": {},
   "outputs": [],
   "source": [
    "d"
   ]
  },
  {
   "cell_type": "code",
   "execution_count": null,
   "id": "957e07cb-f88e-4d9d-9145-c60ceaff9a8a",
   "metadata": {},
   "outputs": [],
   "source": []
  }
 ],
 "metadata": {
  "kernelspec": {
   "display_name": "Python 3 (ipykernel)",
   "language": "python",
   "name": "python3"
  },
  "language_info": {
   "codemirror_mode": {
    "name": "ipython",
    "version": 3
   },
   "file_extension": ".py",
   "mimetype": "text/x-python",
   "name": "python",
   "nbconvert_exporter": "python",
   "pygments_lexer": "ipython3",
   "version": "3.10.12"
  }
 },
 "nbformat": 4,
 "nbformat_minor": 5
}
